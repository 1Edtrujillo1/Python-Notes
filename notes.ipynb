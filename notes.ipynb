{
 "cells": [
  {
   "cell_type": "markdown",
   "metadata": {},
   "source": [
    "## Introduction to Algorithms"
   ]
  },
  {
   "cell_type": "markdown",
   "metadata": {},
   "source": [
    "### Task 1\r\n",
    "\r\n",
    "*Variable*: declare an actual value.\r\n",
    "\r\n",
    "Types of variables:\r\n",
    "\r\n",
    "- float: Rational numbers.\r\n",
    "- Integers: Natural numbers.\r\n",
    "- bool: Logical values (True / False).\r\n",
    "- str: string/character values."
   ]
  },
  {
   "cell_type": "markdown",
   "metadata": {},
   "source": [
    "### Task 2\r\n",
    "\r\n",
    "Names for the variables:\r\n",
    "\r\n",
    "- Dimensions for a rectangle: *dim*\r\n",
    "- Money in Australian Dollars: *au_money*\r\n",
    "- Someone’s Age: *age*\r\n",
    "- Someone’s Name: *name*\r\n",
    "- Your tutor’s favourite food: *tutor_fav_food*\r\n",
    "- Your favourite food: *my_fav_food*"
   ]
  },
  {
   "cell_type": "markdown",
   "metadata": {},
   "source": [
    "### Task 3\r\n",
    "\r\n",
    "Why it is important to document your code?\r\n",
    "\r\n",
    "It is a best practice coding when we use *docstrings* on our functions. In other\r\n",
    "words it is important that the reader understand what the function does and what\r\n",
    "are the arguments."
   ]
  },
  {
   "cell_type": "markdown",
   "metadata": {},
   "source": [
    "### Task 4\r\n",
    "\r\n",
    "Find the data type of the variables:\r\n",
    "\r\n",
    "- a = 7\r\n",
    "- b = \"8\"\r\n",
    "- c = \"abc\"==\"ab\""
   ]
  },
  {
   "cell_type": "code",
   "execution_count": 7,
   "metadata": {},
   "outputs": [
    {
     "data": {
      "text/plain": [
       "[int, str, bool]"
      ]
     },
     "execution_count": 7,
     "metadata": {},
     "output_type": "execute_result"
    }
   ],
   "source": [
    "list(map(lambda x: type(x), [7, \"8\", (\"abc\" == \"ab\")]))"
   ]
  },
  {
   "cell_type": "markdown",
   "metadata": {},
   "source": [
    "### Task 5"
   ]
  },
  {
   "cell_type": "code",
   "execution_count": 1,
   "metadata": {},
   "outputs": [
    {
     "name": "stdout",
     "output_type": "stream",
     "text": [
      "The addition is: 6\n",
      "<class 'int'>\n",
      "The substraction is: -2\n",
      "<class 'int'>\n",
      "The product is: 8\n",
      "<class 'int'>\n",
      "The module is: 2\n",
      "<class 'int'>\n",
      "The addition is: 7\n",
      "<class 'int'>\n",
      "The substraction is: -1\n",
      "<class 'int'>\n",
      "The product is: 12\n",
      "<class 'int'>\n",
      "The module is: 3\n",
      "<class 'int'>\n",
      "You need to provide a and b arguments correctly\n"
     ]
    }
   ],
   "source": [
    "# 1. Stores two integer numbers\r\n",
    "# 2. Perform the operations +, - , *, %\r\n",
    "# 3. Print the result in not an ambiguous way\r\n",
    "# 4. Print the type of the integers and the results \r\n",
    "# 5. Do the same with input()\r\n",
    "\r\n",
    "def basic_arithmetic(a=None, b=None):\r\n",
    "    \"\"\"Make arithmetic calculations and print them.\r\n",
    "        Args:\r\n",
    "        a: integer.\r\n",
    "        b: integer\r\n",
    "        Returns:\r\n",
    "        Print the arithmetic result and the variable type.\r\n",
    "    \"\"\"\r\n",
    "\r\n",
    "    if(a == None and b == None):\r\n",
    "        a = int(input(\"Enter an integer: \"))\r\n",
    "        b = int(input(\"Enter an integer: \"))\r\n",
    "\r\n",
    "    try:\r\n",
    "        arithmethic = [(a + b), (a - b), (a * b), (a % b)]\r\n",
    "\r\n",
    "        result_arithmetic = list(map(lambda text, value: text + value,\r\n",
    "                                     [\"The \" + i + \" is: \" for i in [\"addition\",\r\n",
    "                                                                     \"substraction\", \"product\", \"module\"]],\r\n",
    "                                     [str(i) for i in arithmethic]\r\n",
    "                                     ))\r\n",
    "\r\n",
    "        type_arithmetic = list(map(lambda x: type(x), [a, b] + arithmethic))\r\n",
    "\r\n",
    "        list(map(lambda i, j: print(i + \"\\n\" + str(j)),\r\n",
    "                 result_arithmetic, type_arithmetic))\r\n",
    "\r\n",
    "    except:\r\n",
    "        print(\"You need to provide a and b arguments correctly\")\r\n",
    "\r\n",
    "# Example with inputs    \r\n",
    "basic_arithmetic()   \r\n",
    "# Example with parameters\r\n",
    "basic_arithmetic(a = 3, b = 4)\r\n",
    "# Example with incorrect result\r\n",
    "basic_arithmetic(a = 3, b = \"r\")"
   ]
  },
  {
   "cell_type": "markdown",
   "metadata": {},
   "source": [
    "### Task 6\r\n",
    "\r\n",
    "Script that converts temperature from Fahrenheit to Celsius using the formula:\r\n",
    "\r\n",
    "$$C = (F-32)(\\frac{5}{9})$$"
   ]
  },
  {
   "cell_type": "code",
   "execution_count": 2,
   "metadata": {},
   "outputs": [
    {
     "name": "stdout",
     "output_type": "stream",
     "text": [
      "The Celsius value is: -16.5\n"
     ]
    }
   ],
   "source": [
    "def celsius_val(fahrenheit):\r\n",
    "    cel_val = (fahrenheit-32)*(5/9)\r\n",
    "    print(f\"The Celsius value is: {cel_val}\")\r\n",
    "\r\n",
    "# Example\r\n",
    "celsius_val(fahrenheit = 2.3)\r\n"
   ]
  },
  {
   "cell_type": "markdown",
   "metadata": {},
   "source": [
    "### Task 7"
   ]
  },
  {
   "cell_type": "code",
   "execution_count": 5,
   "metadata": {},
   "outputs": [
    {
     "name": "stdout",
     "output_type": "stream",
     "text": [
      "Hey there Eduardo Trujillo! You are 25 years old.\n",
      "Hey there eduardo trujillo! You are 24 years old.\n",
      "Provide the correct parameters.\n"
     ]
    }
   ],
   "source": [
    "# Take as input: first name, last name, & age.\r\n",
    "# Print out a message using the format:\r\n",
    "# \"Hey there first name last name! You are age years old.\"\r\n",
    "\r\n",
    "def print_statement(first_name=None, last_name=None, age=None):\r\n",
    "    \"\"\"Create a particular sentence with help of defined parameters.\r\n",
    "        Args:\r\n",
    "        first_name: character string.\r\n",
    "        last_name: character string\r\n",
    "        age: integer value\r\n",
    "        Returns:\r\n",
    "        Print a sentence.\r\n",
    "    \"\"\"\r\n",
    "\r\n",
    "    if(first_name == None and last_name == None and age == None):\r\n",
    "        first_name = str(input(\"Enter first name: \"))\r\n",
    "        last_name = str(input(\"Enter last name: \"))\r\n",
    "        age = int(input(\"Enter your age: \"))\r\n",
    "\r\n",
    "    if(first_name.isalpha() and last_name.isalpha() and isinstance(age, int)):\r\n",
    "\r\n",
    "        print(\r\n",
    "            f\"Hey there {first_name} {last_name}! You are {age} years old.\")\r\n",
    "\r\n",
    "    else:\r\n",
    "        print(\"Provide the correct parameters.\")\r\n",
    "\r\n",
    "\r\n",
    "# Example with inputs\r\n",
    "print_statement()\r\n",
    "# Example with parameters\r\n",
    "print_statement(first_name=\"eduardo\", last_name=\"trujillo\", age=24)\r\n",
    "# Example with incorrect result\r\n",
    "print_statement(first_name=\"eduardo\", last_name=\"trujillo\", age=\"s\")\r\n"
   ]
  },
  {
   "cell_type": "markdown",
   "metadata": {},
   "source": [
    "### Task 8\r\n",
    "\r\n",
    "Take height and width as inputs and print the area of a rectangle and a triangle.\r\n",
    "\r\n",
    "$$rectangle = (height)(width)$$\r\n",
    "\r\n",
    "$$triangle = (\\frac{1}{2})(height)(width)$$"
   ]
  },
  {
   "cell_type": "code",
   "execution_count": 4,
   "metadata": {},
   "outputs": [
    {
     "name": "stdout",
     "output_type": "stream",
     "text": [
      "Area of rectangle is 75\n",
      "Area of triangle is 37.5\n"
     ]
    },
    {
     "data": {
      "text/plain": [
       "[None, None]"
      ]
     },
     "execution_count": 4,
     "metadata": {},
     "output_type": "execute_result"
    }
   ],
   "source": [
    "height = 25\r\n",
    "width = 3\r\n",
    "\r\n",
    "list(map(lambda figure, value: print(\"Area of \" + figure + \" is \" + str(value)),\r\n",
    "         [\"rectangle\", \"triangle\"],\r\n",
    "         [i * (height * width) for i in [1, 1/2]]\r\n",
    "         ))"
   ]
  },
  {
   "cell_type": "markdown",
   "metadata": {},
   "source": [
    "### Task 9\r\n",
    "\r\n",
    "Conver hours and minutes to seconds\r\n",
    "\r\n",
    "- 1 hrs  = 3600 seconds\r\n",
    "- 1 minute = 60 seconds"
   ]
  },
  {
   "cell_type": "code",
   "execution_count": 6,
   "metadata": {},
   "outputs": [
    {
     "name": "stdout",
     "output_type": "stream",
     "text": [
      "The hour 2 has 7200 seconds\n",
      "The minute 4 has 240 seconds\n"
     ]
    },
    {
     "data": {
      "text/plain": [
       "[None, None]"
      ]
     },
     "execution_count": 6,
     "metadata": {},
     "output_type": "execute_result"
    }
   ],
   "source": [
    "hour = 2\r\n",
    "minute = 4\r\n",
    "\r\n",
    "list(map(lambda string, time, seconds: print(f\"The {string} {time} has {time*seconds} seconds\"),\r\n",
    "         [\"hour\", \"minute\"],\r\n",
    "         [hour, minute],\r\n",
    "         [3600, 60]\r\n",
    "         ))"
   ]
  },
  {
   "cell_type": "markdown",
   "metadata": {},
   "source": [
    "## Introduction to data structures, collective data types and control structure\r\n",
    "\r\n"
   ]
  },
  {
   "cell_type": "markdown",
   "metadata": {},
   "source": [
    "### Task 1"
   ]
  },
  {
   "cell_type": "markdown",
   "metadata": {},
   "source": [
    "What is the difference between a **list**, **tuple**, **set**, and **dictionary**?\r\n",
    "\r\n",
    "*Mutable object*: an object can be changed after it is created.\r\n",
    "\r\n",
    "- e.g. list, set, dict.\r\n",
    "\r\n",
    "*Inmutable object*: an object can´t be changed after it is created.\r\n",
    "\r\n",
    "- e.g int, float, bool, str, tuple, keys of a dictionary.\r\n",
    "\r\n",
    "*List*: is a python object that helps to store information, is a way to give a\r\n",
    "single name to a collection of values.\r\n",
    "\r\n",
    "*Tuple*: By definition is similar to a list on indexing, nesting objects and\r\n",
    "repetition. However, a tuple is an *inmutable object*\r\n",
    "\r\n",
    "- A *list*, *tuple* can contain subelements (sublists/subtuples).\r\n",
    "\r\n",
    "*Set*: represent the mathematical term of set, where this is an unordered\r\n",
    "collection of data and with *no duplicated elements* (e.g. a unique ID variable\r\n",
    "in a dataset).\r\n",
    "\r\n",
    "- The advantage of using a *set* instead of a *list*, is that it is easier to\r\n",
    "check if an element is part of a *Set* (since a *set* has unique elements).\r\n",
    "\r\n",
    "*Dictionary*: Again *lists* and *dictionaries* are similar because we can select, \r\n",
    "update, remove elements with square brackets, but the difference is that a list \r\n",
    "is a sequence of values that are indexed by a range of numbers, the dictionary\r\n",
    "on the other hand is indexed by unique keys.\r\n",
    "\r\n",
    "- Need to have unique keys. And each key needs to be a value, it can´t be a list.\r\n",
    "- It is possible that a dictionary can have dictionaries as elements."
   ]
  },
  {
   "cell_type": "code",
   "execution_count": 12,
   "metadata": {},
   "outputs": [
    {
     "name": "stdout",
     "output_type": "stream",
     "text": [
      "lists\n",
      "[1, 2, 4] [[1, 2, 4], ['a', 'b', 'd']]\n",
      "tuples\n",
      "(1, 2, 4) ((1, 2, 4), ('a', 'b', 'd'))\n",
      "2 2\n",
      "sets\n",
      "{1, 2, 4} {1, 2, 4} {'a', 'b', 'd'} {'a', 'b', 'd'}\n",
      "dictionaries\n",
      "{'afghanistan': 30.55, 'albania': 2.77, 'algeria': 39.21} {1: 'a', 2: 'b', 4: 'd'} {'spain': {'capital': 'madrid', 'population': 46.77}, 'france': {'capital': 'paris', 'population': 66.03}, 'germany': {'capital': 'berlin', 'population': 80.62}, 'norway': {'capital': 'oslo', 'population': 5.084}}\n"
     ]
    }
   ],
   "source": [
    "# 1.0 Example of list\r\n",
    "l1 = [1, 2, 4]\r\n",
    "l2 = [[1, 2, 4], [\"a\", \"b\", \"d\"]]\r\n",
    "\r\n",
    "print(\"lists\")\r\n",
    "print(l1, l2)\r\n",
    "\r\n",
    "# 2.0 Example of tuple\r\n",
    "t1 = (1, 2, 4)\r\n",
    "t2 = ((1, 2, 4), (\"a\", \"b\", \"d\"))\r\n",
    "\r\n",
    "print(\"tuples\")\r\n",
    "print(t1, t2)\r\n",
    "\r\n",
    "# 3.0 Example select an element\r\n",
    "print(l2[0][1], t2[0][1])\r\n",
    "\r\n",
    "# 4.0 Example of a set\r\n",
    "s1 = set(l1)\r\n",
    "s11 = {1, 2, 4}\r\n",
    "s2 = set([\"a\", \"b\", \"d\"])\r\n",
    "s21 = {\"a\", \"b\", \"d\"}\r\n",
    "\r\n",
    "print(\"sets\")\r\n",
    "print(s1, s11, s2, s21)\r\n",
    "\r\n",
    "# 5.0 Example of dictionary\r\n",
    "d1 = {\"afghanistan\": 30.55, \"albania\": 2.77, \"algeria\": 39.21}\r\n",
    "\r\n",
    "# 5.1. Create a dictionary from a list\r\n",
    "d2 = {}\r\n",
    "list_values = [\"a\", \"b\", \"d\"]\r\n",
    "for i in range(0, len(l1)):\r\n",
    "    d2[l1[i]] = list_values[i]\r\n",
    "\r\n",
    "keys = d2.keys()\r\n",
    "values = d2.values()\r\n",
    "\r\n",
    "# 5.2. Dictionary of dictionaries\r\n",
    "d3 = {'spain': {'capital': 'madrid', 'population': 46.77},\r\n",
    "      'france': {'capital': 'paris', 'population': 66.03},\r\n",
    "      'germany': {'capital': 'berlin', 'population': 80.62},\r\n",
    "      'norway': {'capital': 'oslo', 'population': 5.084}}     \r\n",
    "\r\n",
    "print(\"dictionaries\")\r\n",
    "print(d1, d2, d3, keys, values)"
   ]
  },
  {
   "cell_type": "markdown",
   "metadata": {},
   "source": [
    "### Task2 \r\n",
    "\r\n",
    "Concatate three dictionaries into one."
   ]
  }
 ],
 "metadata": {
  "interpreter": {
   "hash": "aa8b936245126f084557225acc519ae549531e6f20f9dc5e7a745c55a36659f0"
  },
  "kernelspec": {
   "display_name": "Python 3.8.8 64-bit ('base': conda)",
   "name": "python3"
  },
  "language_info": {
   "codemirror_mode": {
    "name": "ipython",
    "version": 3
   },
   "file_extension": ".py",
   "mimetype": "text/x-python",
   "name": "python",
   "nbconvert_exporter": "python",
   "pygments_lexer": "ipython3",
   "version": "3.8.8"
  },
  "orig_nbformat": 4
 },
 "nbformat": 4,
 "nbformat_minor": 2
}