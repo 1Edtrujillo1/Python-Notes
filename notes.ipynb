{
 "cells": [
  {
   "cell_type": "markdown",
   "metadata": {},
   "source": [
    "*Variable*: declare an actual value.\r\n",
    "\r\n",
    "Types of variables:\r\n",
    "\r\n",
    "- float: Rational numbers.\r\n",
    "- Integers: Natural numbers.\r\n",
    "- bool: Logical values (True / False).\r\n",
    "- str: string/character values."
   ]
  },
  {
   "cell_type": "markdown",
   "metadata": {},
   "source": [
    "Names for the variables:\r\n",
    "\r\n",
    "- Dimensions for a rectangle: *dim*\r\n",
    "- Money in Australian Dollars: *au_money*\r\n",
    "- Someone’s Age: *age*\r\n",
    "- Someone’s Name: *name*\r\n",
    "- Your tutor’s favourite food: *tutor_fav_food*\r\n",
    "- Your favourite food: *my_fav_food*"
   ]
  },
  {
   "cell_type": "code",
   "execution_count": null,
   "metadata": {},
   "outputs": [],
   "source": [
    "# 1. Stores two integer numbers\r\n",
    "# 2. Perform the operations +, - , *, %\r\n",
    "# 3. Print the result in not an ambiguous way\r\n",
    "# 4. Print the type of the integers and the results \r\n",
    "# 5. Do the same with input()\r\n",
    "\r\n",
    "def basic_arithmetic(a = None, b  = None):\r\n",
    "    if(a == None and b == None):\r\n",
    "        a = int(input(\"Enter an integer: \"))\r\n",
    "        b = int(input(\"Enter an integer: \"))\r\n",
    "\r\n",
    "    try:\r\n",
    "        arithmethic = [(a + b), (a - b), (a * b), (a % b)]\r\n",
    "        \r\n",
    "        result_arithmetic = list(map(lambda text, value: text + value,\r\n",
    "        [\"The \" + i + \" is: \" for i in [\"addition\", \"substraction\", \"product\", \"module\"]],\r\n",
    "        [str(i) for i in arithmethic]\r\n",
    "        ))\r\n",
    "            \r\n",
    "        type_arithmetic = list(map(lambda x: type(x), [a, b] + arithmethic))\r\n",
    "        \r\n",
    "        list(map(lambda i, j: print(i + \"\\n\" + str(j)),\r\n",
    "        result_arithmetic, type_arithmetic))\r\n",
    "        \r\n",
    "    except:\r\n",
    "        print(\"You need to provide a and b arguments correctly\")\r\n",
    "\r\n",
    "    \r\n",
    "basic_arithmetic()   \r\n",
    "basic_arithmetic(a = 3, b = 4)\r\n",
    "basic_arithmetic(a = 3, b = \"r\")"
   ]
  }
 ],
 "metadata": {
  "interpreter": {
   "hash": "aa8b936245126f084557225acc519ae549531e6f20f9dc5e7a745c55a36659f0"
  },
  "kernelspec": {
   "display_name": "Python 3.8.8 64-bit ('base': conda)",
   "name": "python3"
  },
  "language_info": {
   "codemirror_mode": {
    "name": "ipython",
    "version": 3
   },
   "file_extension": ".py",
   "mimetype": "text/x-python",
   "name": "python",
   "nbconvert_exporter": "python",
   "pygments_lexer": "ipython3",
   "version": "3.8.8"
  },
  "orig_nbformat": 4
 },
 "nbformat": 4,
 "nbformat_minor": 2
}