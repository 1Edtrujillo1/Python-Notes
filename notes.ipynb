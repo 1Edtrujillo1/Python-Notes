{
 "cells": [
  {
   "cell_type": "markdown",
   "metadata": {},
   "source": [
    "### Task 1\r\n",
    "\r\n",
    "*Variable*: declare an actual value.\r\n",
    "\r\n",
    "Types of variables:\r\n",
    "\r\n",
    "- float: Rational numbers.\r\n",
    "- Integers: Natural numbers.\r\n",
    "- bool: Logical values (True / False).\r\n",
    "- str: string/character values."
   ]
  },
  {
   "cell_type": "markdown",
   "metadata": {},
   "source": [
    "### Task 2\r\n",
    "\r\n",
    "Names for the variables:\r\n",
    "\r\n",
    "- Dimensions for a rectangle: *dim*\r\n",
    "- Money in Australian Dollars: *au_money*\r\n",
    "- Someone’s Age: *age*\r\n",
    "- Someone’s Name: *name*\r\n",
    "- Your tutor’s favourite food: *tutor_fav_food*\r\n",
    "- Your favourite food: *my_fav_food*"
   ]
  },
  {
   "cell_type": "markdown",
   "metadata": {},
   "source": [
    "### Task 3\r\n",
    "\r\n",
    "Why it is important to document your code?\r\n",
    "\r\n",
    "It is a best practice coding when we use *docstrings* on our functions. In other\r\n",
    "words it is important that the reader understand what the function does and what\r\n",
    "are the arguments."
   ]
  },
  {
   "cell_type": "markdown",
   "metadata": {},
   "source": [
    "### Task 4"
   ]
  },
  {
   "cell_type": "code",
   "execution_count": 1,
   "metadata": {},
   "outputs": [
    {
     "name": "stdout",
     "output_type": "stream",
     "text": [
      "The addition is: 6\n",
      "<class 'int'>\n",
      "The substraction is: -2\n",
      "<class 'int'>\n",
      "The product is: 8\n",
      "<class 'int'>\n",
      "The module is: 2\n",
      "<class 'int'>\n",
      "The addition is: 7\n",
      "<class 'int'>\n",
      "The substraction is: -1\n",
      "<class 'int'>\n",
      "The product is: 12\n",
      "<class 'int'>\n",
      "The module is: 3\n",
      "<class 'int'>\n",
      "You need to provide a and b arguments correctly\n"
     ]
    }
   ],
   "source": [
    "# 1. Stores two integer numbers\r\n",
    "# 2. Perform the operations +, - , *, %\r\n",
    "# 3. Print the result in not an ambiguous way\r\n",
    "# 4. Print the type of the integers and the results \r\n",
    "# 5. Do the same with input()\r\n",
    "\r\n",
    "def basic_arithmetic(a=None, b=None):\r\n",
    "    \"\"\"Make arithmetic calculations and print them.\r\n",
    "        Args:\r\n",
    "        a: integer.\r\n",
    "        b: integer\r\n",
    "        Returns:\r\n",
    "        Print the arithmetic result and the variable type.\r\n",
    "    \"\"\"\r\n",
    "\r\n",
    "    if(a == None and b == None):\r\n",
    "        a = int(input(\"Enter an integer: \"))\r\n",
    "        b = int(input(\"Enter an integer: \"))\r\n",
    "\r\n",
    "    try:\r\n",
    "        arithmethic = [(a + b), (a - b), (a * b), (a % b)]\r\n",
    "\r\n",
    "        result_arithmetic = list(map(lambda text, value: text + value,\r\n",
    "                                     [\"The \" + i + \" is: \" for i in [\"addition\",\r\n",
    "                                                                     \"substraction\", \"product\", \"module\"]],\r\n",
    "                                     [str(i) for i in arithmethic]\r\n",
    "                                     ))\r\n",
    "\r\n",
    "        type_arithmetic = list(map(lambda x: type(x), [a, b] + arithmethic))\r\n",
    "\r\n",
    "        list(map(lambda i, j: print(i + \"\\n\" + str(j)),\r\n",
    "                 result_arithmetic, type_arithmetic))\r\n",
    "\r\n",
    "    except:\r\n",
    "        print(\"You need to provide a and b arguments correctly\")\r\n",
    "\r\n",
    "# Example with inputs    \r\n",
    "basic_arithmetic()   \r\n",
    "# Example with parameters\r\n",
    "basic_arithmetic(a = 3, b = 4)\r\n",
    "# Example with incorrect result\r\n",
    "basic_arithmetic(a = 3, b = \"r\")"
   ]
  },
  {
   "cell_type": "markdown",
   "metadata": {},
   "source": [
    "### Task 5\r\n",
    "\r\n",
    "Script that converts temperature from Fahrenheit to Celsius using the formula:\r\n",
    "\r\n",
    "$$C = (F-32)(\\frac{5}{9})$$"
   ]
  },
  {
   "cell_type": "code",
   "execution_count": 2,
   "metadata": {},
   "outputs": [
    {
     "name": "stdout",
     "output_type": "stream",
     "text": [
      "The Celsius value is: -16.5\n"
     ]
    }
   ],
   "source": [
    "def celsius_val(fahrenheit):\r\n",
    "    cel_val = (fahrenheit-32)*(5/9)\r\n",
    "    print(f\"The Celsius value is: {cel_val}\")\r\n",
    "\r\n",
    "# Example\r\n",
    "celsius_val(fahrenheit = 2.3)\r\n"
   ]
  },
  {
   "cell_type": "markdown",
   "metadata": {},
   "source": [
    "### Task 6"
   ]
  },
  {
   "cell_type": "code",
   "execution_count": 3,
   "metadata": {},
   "outputs": [
    {
     "name": "stdout",
     "output_type": "stream",
     "text": [
      "Provide the correct parameters.\n",
      "Hey there eduardo trujillo! You are 24 years old.\n",
      "Provide the correct parameters.\n"
     ]
    }
   ],
   "source": [
    "# Take as input: first name, last name, & age.\r\n",
    "# Print out a message using the format:\r\n",
    "# \"Hey there first name last name! You are age years old.\"\r\n",
    "\r\n",
    "def print_statement(first_name=None, last_name=None, age=None):\r\n",
    "    \"\"\"Create a particular sentence with help of defined parameters.\r\n",
    "        Args:\r\n",
    "        first_name: character string.\r\n",
    "        last_name: character string\r\n",
    "        age: integer value\r\n",
    "        Returns:\r\n",
    "        Print a sentence.\r\n",
    "    \"\"\"\r\n",
    "\r\n",
    "    if(first_name == None and last_name == None and age == None):\r\n",
    "        first_name = str(input(\"Enter first name: \"))\r\n",
    "        last_name = str(input(\"Enter last name: \"))\r\n",
    "        age = int(input(\"Enter your age: \"))\r\n",
    "\r\n",
    "    if(first_name.isalpha() and last_name.isalpha() and isinstance(age, int)):\r\n",
    "\r\n",
    "        print(\r\n",
    "            f\"Hey there {first_name} {last_name}! You are {age} years old.\")\r\n",
    "\r\n",
    "    else:\r\n",
    "        print(\"Provide the correct parameters.\")\r\n",
    "\r\n",
    "\r\n",
    "# Example with inputs\r\n",
    "print_statement()\r\n",
    "# Example with parameters\r\n",
    "print_statement(first_name=\"eduardo\", last_name=\"trujillo\", age=24)\r\n",
    "# Example with incorrect result\r\n",
    "print_statement(first_name=\"eduardo\", last_name=\"trujillo\", age=\"s\")\r\n"
   ]
  },
  {
   "cell_type": "markdown",
   "metadata": {},
   "source": [
    "### Task 7\r\n",
    "\r\n",
    "Take height and width as inputs and print the area of a rectangle and a triangle.\r\n",
    "\r\n",
    "$$rectangle = (height)(width)$$\r\n",
    "\r\n",
    "$$triangle = (\\frac{1}{2})(height)(width)$$"
   ]
  },
  {
   "cell_type": "code",
   "execution_count": 4,
   "metadata": {},
   "outputs": [
    {
     "name": "stdout",
     "output_type": "stream",
     "text": [
      "Area of rectangle is 75\n",
      "Area of triangle is 37.5\n"
     ]
    },
    {
     "data": {
      "text/plain": [
       "[None, None]"
      ]
     },
     "execution_count": 4,
     "metadata": {},
     "output_type": "execute_result"
    }
   ],
   "source": [
    "height = 25\r\n",
    "width = 3\r\n",
    "\r\n",
    "list(map(lambda figure, value: print(\"Area of \" + figure + \" is \" + str(value)),\r\n",
    "         [\"rectangle\", \"triangle\"],\r\n",
    "         [i * (height * width) for i in [1, 1/2]]\r\n",
    "         ))"
   ]
  },
  {
   "cell_type": "markdown",
   "metadata": {},
   "source": [
    "### Task 8\r\n",
    "\r\n",
    "Conver hours and minutes to seconds\r\n",
    "\r\n",
    "- 1 hrs  = 3600 seconds\r\n",
    "- 1 minute = 60 seconds"
   ]
  }
 ],
 "metadata": {
  "interpreter": {
   "hash": "aa8b936245126f084557225acc519ae549531e6f20f9dc5e7a745c55a36659f0"
  },
  "kernelspec": {
   "display_name": "Python 3.8.8 64-bit ('base': conda)",
   "name": "python3"
  },
  "language_info": {
   "codemirror_mode": {
    "name": "ipython",
    "version": 3
   },
   "file_extension": ".py",
   "mimetype": "text/x-python",
   "name": "python",
   "nbconvert_exporter": "python",
   "pygments_lexer": "ipython3",
   "version": "3.8.8"
  },
  "orig_nbformat": 4
 },
 "nbformat": 4,
 "nbformat_minor": 2
}