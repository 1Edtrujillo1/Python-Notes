{
 "cells": [
  {
   "cell_type": "markdown",
   "metadata": {},
   "source": [
    "*Variable*: declare an actual value.\r\n",
    "\r\n",
    "Types of variables:\r\n",
    "\r\n",
    "- float: Rational numbers.\r\n",
    "- Integers: Natural numbers.\r\n",
    "- bool: Logical values (True / False).\r\n",
    "- str: string/character values."
   ]
  },
  {
   "cell_type": "markdown",
   "metadata": {},
   "source": [
    "Names for the variables:\r\n",
    "\r\n",
    "- Dimensions for a rectangle: *dim*\r\n",
    "- Money in Australian Dollars: *au_money*\r\n",
    "- Someone’s Age: *age*\r\n",
    "- Someone’s Name: *name*\r\n",
    "- Your tutor’s favourite food: *tutor_fav_food*\r\n",
    "- Your favourite food: *my_fav_food*"
   ]
  },
  {
   "cell_type": "code",
   "execution_count": null,
   "metadata": {},
   "outputs": [],
   "source": []
  }
 ],
 "metadata": {
  "interpreter": {
   "hash": "aa8b936245126f084557225acc519ae549531e6f20f9dc5e7a745c55a36659f0"
  },
  "kernelspec": {
   "display_name": "Python 3.8.8 64-bit ('base': conda)",
   "name": "python3"
  },
  "language_info": {
   "codemirror_mode": {
    "name": "ipython",
    "version": 3
   },
   "file_extension": ".py",
   "mimetype": "text/x-python",
   "name": "python",
   "nbconvert_exporter": "python",
   "pygments_lexer": "ipython3",
   "version": "3.8.8"
  },
  "orig_nbformat": 4
 },
 "nbformat": 4,
 "nbformat_minor": 2
}